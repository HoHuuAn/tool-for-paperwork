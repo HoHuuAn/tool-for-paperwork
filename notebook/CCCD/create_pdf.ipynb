{
 "cells": [
  {
   "cell_type": "code",
   "execution_count": 1,
   "metadata": {},
   "outputs": [],
   "source": [
    "from fpdf import FPDF"
   ]
  },
  {
   "cell_type": "code",
   "execution_count": 2,
   "metadata": {},
   "outputs": [],
   "source": [
    "class CCCD():\n",
    "    def __init__(self, side: str, path: str):\n",
    "        self.side = side\n",
    "        self.path = path\n",
    "\n",
    "    def set_side(self, side):\n",
    "        self.side = side\n",
    "    \n",
    "    def set_path(self, path):\n",
    "        self.path = path\n",
    "    \n",
    "    def get_side(self):\n",
    "        return self.side\n",
    "    \n",
    "    def get_path(self):\n",
    "        return self.path\n",
    "    \n",
    "    def __str__(self):\n",
    "        return f\"CCCD: {self.side}, {self.path}\""
   ]
  },
  {
   "cell_type": "code",
   "execution_count": 3,
   "metadata": {},
   "outputs": [
    {
     "name": "stdout",
     "output_type": "stream",
     "text": [
      "front\n",
      "back\n"
     ]
    }
   ],
   "source": [
    "def create_pdf(images, pdf_output, count=1):\n",
    "    pdf = FPDF('P', 'mm', 'A4')\n",
    "    \n",
    "    cell_width = pdf.w/2 - 10\n",
    "    cell_height = 60\n",
    "    margin = 8\n",
    "    \n",
    "    margin_left = 10\n",
    "    \n",
    "    while (count > 0):\n",
    "        \n",
    "        quantity_per_page = 4 if count >= 4 else count\n",
    "        for image in images:\n",
    "            pdf.add_page()\n",
    "            if image.get_side() == 'front':        \n",
    "                for index in range(0, quantity_per_page):\n",
    "                    print('front')\n",
    "                    pdf.set_xy(margin_left + cell_width, margin + index * (cell_height + margin))\n",
    "                    pdf.image(image.get_path(), w=cell_width, h=cell_height)\n",
    "\n",
    "            elif image.get_side() == 'back':\n",
    "                for index in range(0, quantity_per_page):\n",
    "                    print('back')\n",
    "                    pdf.set_xy(margin, margin + index * (cell_height + margin) )\n",
    "                    pdf.image(image.get_path(), w=cell_width, h=cell_height)\n",
    "\n",
    "        count -= quantity_per_page     \n",
    "\n",
    "    pdf.output(pdf_output)\n",
    "\n",
    "\n",
    "front = CCCD('front', '../../test/test1_fix.jpg')\n",
    "back = CCCD('back', '../../test/test_back1_fix.jpg')\n",
    "processed_images = [front,\n",
    "                    back]\n",
    "\n",
    "\n",
    "output_pdf = 'processed_cards.pdf'\n",
    "create_pdf(processed_images, output_pdf)\n"
   ]
  }
 ],
 "metadata": {
  "kernelspec": {
   "display_name": "Python 3",
   "language": "python",
   "name": "python3"
  },
  "language_info": {
   "codemirror_mode": {
    "name": "ipython",
    "version": 3
   },
   "file_extension": ".py",
   "mimetype": "text/x-python",
   "name": "python",
   "nbconvert_exporter": "python",
   "pygments_lexer": "ipython3",
   "version": "3.11.2"
  }
 },
 "nbformat": 4,
 "nbformat_minor": 2
}
