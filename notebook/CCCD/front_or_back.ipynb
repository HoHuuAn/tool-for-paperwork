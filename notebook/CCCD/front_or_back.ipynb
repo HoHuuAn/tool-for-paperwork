{
 "cells": [
  {
   "cell_type": "code",
   "execution_count": 1,
   "metadata": {},
   "outputs": [],
   "source": [
    "import cv2\n",
    "import numpy as np"
   ]
  },
  {
   "cell_type": "markdown",
   "metadata": {},
   "source": [
    "# ver 1"
   ]
  },
  {
   "cell_type": "code",
   "execution_count": 11,
   "metadata": {},
   "outputs": [
    {
     "data": {
      "text/plain": [
       "'Back side'"
      ]
     },
     "execution_count": 11,
     "metadata": {},
     "output_type": "execute_result"
    }
   ],
   "source": [
    "# Function to detect if a fingerprint area is present\n",
    "def detect_fingerprint_area(image_path):\n",
    "    image = cv2.imread(image_path)\n",
    "    gray = cv2.cvtColor(image, cv2.COLOR_BGR2GRAY)\n",
    "\n",
    "    blurred = cv2.GaussianBlur(gray, (5, 5), 0)\n",
    "\n",
    "    _, thresh = cv2.threshold(blurred, 150, 255, cv2.THRESH_BINARY_INV)\n",
    "\n",
    "    contours, _ = cv2.findContours(thresh, cv2.RETR_EXTERNAL, cv2.CHAIN_APPROX_SIMPLE)\n",
    "\n",
    "    for contour in contours:\n",
    "        (x, y, w, h) = cv2.boundingRect(contour)\n",
    "\n",
    "        aspect_ratio = w / float(h)\n",
    "        if 0.8 < aspect_ratio < 1.2 and 50 < w < 150 and 50 < h < 150:\n",
    "            return \"Back side\"\n",
    "    return \"Front side\"\n",
    "\n",
    "\n",
    "# Path to your card image\n",
    "image_path = '../../test/test_back2.jpeg'\n",
    "\n",
    "# Detect which side of the card it is\n",
    "detect_fingerprint_area(image_path)\n"
   ]
  },
  {
   "cell_type": "markdown",
   "metadata": {},
   "source": [
    "# ver 2"
   ]
  },
  {
   "cell_type": "code",
   "execution_count": 9,
   "metadata": {},
   "outputs": [],
   "source": [
    "import cv2\n",
    "\n",
    "front_template = cv2.imread('../../assets/front.jpg', cv2.IMREAD_GRAYSCALE)\n",
    "back_template = cv2.imread('../../assets/back.jpg', cv2.IMREAD_GRAYSCALE)    \n",
    "\n",
    "orb = cv2.ORB_create(1000)\n",
    "\n",
    "BFMATCHER = cv2.BFMatcher(cv2.NORM_HAMMING, crossCheck=True)\n",
    "\n",
    "\n",
    "def detect_id_card_side(image_path):\n",
    "    card_image = cv2.imread(image_path,  cv2.IMREAD_GRAYSCALE) \n",
    "\n",
    "    des_card = orb.detectAndCompute(card_image, None)[1]\n",
    "\n",
    "    des_front = orb.detectAndCompute(front_template, None)[1]\n",
    "\n",
    "    des_back = orb.detectAndCompute(back_template, None)[1]\n",
    "\n",
    "    similarity_front = get_similarity_from_desc(des_card, des_front)\n",
    "    similarity_back = get_similarity_from_desc(des_card, des_back)\n",
    "\n",
    "    return \"front\" if similarity_front > similarity_back else \"back\"\n",
    "    \n",
    "\n",
    "def get_similarity_from_desc(search, idx):\n",
    "    matches = BFMATCHER.match(search, idx)\n",
    "    distances = [m.distance for m in matches]\n",
    "    distance = sum(distances) / len(distances)\n",
    "    similarity = 1 / (1 + distance)\n",
    "    return similarity"
   ]
  },
  {
   "cell_type": "code",
   "execution_count": 10,
   "metadata": {},
   "outputs": [
    {
     "data": {
      "text/plain": [
       "'front'"
      ]
     },
     "execution_count": 10,
     "metadata": {},
     "output_type": "execute_result"
    }
   ],
   "source": [
    "# Path to your card image\n",
    "image_path = '../../test/test1.jpeg'\n",
    "\n",
    "# Detect the card side\n",
    "detect_id_card_side(image_path)"
   ]
  }
 ],
 "metadata": {
  "kernelspec": {
   "display_name": "Python 3",
   "language": "python",
   "name": "python3"
  },
  "language_info": {
   "codemirror_mode": {
    "name": "ipython",
    "version": 3
   },
   "file_extension": ".py",
   "mimetype": "text/x-python",
   "name": "python",
   "nbconvert_exporter": "python",
   "pygments_lexer": "ipython3",
   "version": "3.11.2"
  }
 },
 "nbformat": 4,
 "nbformat_minor": 2
}
